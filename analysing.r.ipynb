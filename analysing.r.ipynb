{
 "cells": [
  {
   "cell_type": "code",
   "execution_count": 9,
   "metadata": {
    "vscode": {
     "languageId": "r"
    }
   },
   "outputs": [],
   "source": [
    "frame.get.from <- function(path) {\n",
    "  frame <- read.csv(path, sep = \";\")\n",
    "  names(frame) <- c(\"sentence\", \"label\")\n",
    "  return(frame)\n",
    "}"
   ]
  },
  {
   "cell_type": "code",
   "execution_count": null,
   "metadata": {
    "vscode": {
     "languageId": "r"
    }
   },
   "outputs": [],
   "source": [
    "test.frame <- frame.get.from(\"./data/test.txt\")\n",
    "train.frame <- frame.get.from(\"./data/train.txt\")\n",
    "valid.frame <- frame.get.from(\"./data/val.txt\")"
   ]
  }
 ],
 "metadata": {
  "kernelspec": {
   "display_name": "R",
   "language": "R",
   "name": "ir"
  },
  "language_info": {
   "codemirror_mode": "r",
   "file_extension": ".r",
   "mimetype": "text/x-r-source",
   "name": "R",
   "pygments_lexer": "r",
   "version": "4.3.0"
  },
  "orig_nbformat": 4
 },
 "nbformat": 4,
 "nbformat_minor": 2
}
