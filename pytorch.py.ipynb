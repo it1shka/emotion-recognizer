{
 "cells": [
  {
   "attachments": {},
   "cell_type": "markdown",
   "metadata": {},
   "source": [
    "### Loading data\n",
    "We create our data frames for test, train and validation <br>\n",
    "We see that they contain 6 emotions: sadness, joy, fear, anger, love and surprise <br>\n",
    "We create our dictionaries for turning emotion to id and id to emotion"
   ]
  },
  {
   "cell_type": "code",
   "execution_count": 34,
   "metadata": {},
   "outputs": [],
   "source": [
    "import pandas as pd\n",
    "\n",
    "def create_frame(filepath: str) -> pd.DataFrame:\n",
    "  frame = pd.read_csv(filepath, sep=';', header=None)\n",
    "  frame.columns = ['text', 'emotion']\n",
    "  return frame\n",
    "\n",
    "test_frame = create_frame('./data/test.txt')\n",
    "train_frame = create_frame('./data/train.txt')\n",
    "valid_frame = create_frame('./data/val.txt')"
   ]
  },
  {
   "cell_type": "code",
   "execution_count": 35,
   "metadata": {},
   "outputs": [
    {
     "name": "stdout",
     "output_type": "stream",
     "text": [
      "im feeling rather rotten so im not very ambitious right now -> sadness\n",
      "im updating my blog because i feel shitty -> sadness\n",
      "i never make her separate from me because i don t ever want her to feel like i m ashamed with her -> sadness\n",
      "i left with my bouquet of red and yellow tulips under my arm feeling slightly more optimistic than when i arrived -> joy\n",
      "i was feeling a little vain when i did this one -> sadness\n"
     ]
    }
   ],
   "source": [
    "for text, emotion in test_frame.head().values:\n",
    "  message = f'{text} -> {emotion}'\n",
    "  print(message)"
   ]
  },
  {
   "cell_type": "code",
   "execution_count": 36,
   "metadata": {},
   "outputs": [
    {
     "data": {
      "text/plain": [
       "{'sadness': 0, 'joy': 1, 'fear': 2, 'anger': 3, 'love': 4, 'surprise': 5}"
      ]
     },
     "execution_count": 36,
     "metadata": {},
     "output_type": "execute_result"
    }
   ],
   "source": [
    "emotions = test_frame['emotion'].unique()\n",
    "emotion_to_id, id_to_emotion = {}, {}\n",
    "for id, emotion in enumerate(emotions):\n",
    "  emotion_to_id[emotion] = id\n",
    "  id_to_emotion[id] = emotion\n",
    "emotion_to_id"
   ]
  },
  {
   "attachments": {},
   "cell_type": "markdown",
   "metadata": {},
   "source": [
    "### Vocabulary creation\n",
    "Now, we wanna create a vocabulary containing words <br>\n",
    "We wanna count each word occurence and draw a piechart of top 20 words"
   ]
  },
  {
   "cell_type": "code",
   "execution_count": 37,
   "metadata": {},
   "outputs": [
    {
     "data": {
      "text/plain": [
       "0    im feeling rather rotten so im not very ambiti...\n",
       "1            im updating my blog because i feel shitty\n",
       "2    i never make her separate from me because i do...\n",
       "3    i left with my bouquet of red and yellow tulip...\n",
       "4      i was feeling a little vain when i did this one\n",
       "Name: text, dtype: object"
      ]
     },
     "execution_count": 37,
     "metadata": {},
     "output_type": "execute_result"
    }
   ],
   "source": [
    "test_sentences, train_sentences, valid_sentences = test_frame['text'], train_frame['text'], valid_frame['text']\n",
    "all_sentences = pd.concat([ test_sentences, train_sentences, valid_sentences ])\n",
    "all_sentences.head()"
   ]
  },
  {
   "cell_type": "code",
   "execution_count": 38,
   "metadata": {},
   "outputs": [
    {
     "name": "stdout",
     "output_type": "stream",
     "text": [
      "Mean: 96.67005, max: 300\n"
     ]
    }
   ],
   "source": [
    "string_length = all_sentences.str.len()\n",
    "mean_length = string_length.mean()\n",
    "max_length = string_length.max()\n",
    "print(f'Mean: {mean_length}, max: {max_length}')"
   ]
  },
  {
   "cell_type": "code",
   "execution_count": 39,
   "metadata": {},
   "outputs": [
    {
     "data": {
      "text/html": [
       "<div>\n",
       "<style scoped>\n",
       "    .dataframe tbody tr th:only-of-type {\n",
       "        vertical-align: middle;\n",
       "    }\n",
       "\n",
       "    .dataframe tbody tr th {\n",
       "        vertical-align: top;\n",
       "    }\n",
       "\n",
       "    .dataframe thead th {\n",
       "        text-align: right;\n",
       "    }\n",
       "</style>\n",
       "<table border=\"1\" class=\"dataframe\">\n",
       "  <thead>\n",
       "    <tr style=\"text-align: right;\">\n",
       "      <th></th>\n",
       "      <th>word</th>\n",
       "      <th>count</th>\n",
       "    </tr>\n",
       "  </thead>\n",
       "  <tbody>\n",
       "    <tr>\n",
       "      <th>0</th>\n",
       "      <td>im</td>\n",
       "      <td>3055</td>\n",
       "    </tr>\n",
       "    <tr>\n",
       "      <th>1</th>\n",
       "      <td>feeling</td>\n",
       "      <td>6431</td>\n",
       "    </tr>\n",
       "    <tr>\n",
       "      <th>2</th>\n",
       "      <td>rather</td>\n",
       "      <td>204</td>\n",
       "    </tr>\n",
       "    <tr>\n",
       "      <th>3</th>\n",
       "      <td>rotten</td>\n",
       "      <td>59</td>\n",
       "    </tr>\n",
       "    <tr>\n",
       "      <th>4</th>\n",
       "      <td>so</td>\n",
       "      <td>3127</td>\n",
       "    </tr>\n",
       "  </tbody>\n",
       "</table>\n",
       "</div>"
      ],
      "text/plain": [
       "      word  count\n",
       "0       im   3055\n",
       "1  feeling   6431\n",
       "2   rather    204\n",
       "3   rotten     59\n",
       "4       so   3127"
      ]
     },
     "execution_count": 39,
     "metadata": {},
     "output_type": "execute_result"
    }
   ],
   "source": [
    "from collections import defaultdict\n",
    "\n",
    "dictionary = defaultdict(int)\n",
    "for sentence in all_sentences:\n",
    "  words = sentence.split()\n",
    "  for each in words:\n",
    "    dictionary[each] += 1\n",
    "\n",
    "dictionary = pd.DataFrame(dictionary.items())\n",
    "dictionary.columns = ['word', 'count']\n",
    "dictionary.head()"
   ]
  },
  {
   "cell_type": "code",
   "execution_count": 40,
   "metadata": {},
   "outputs": [],
   "source": [
    "import matplotlib.pyplot as plt\n",
    "\n",
    "def get_top_words(frame: pd.DataFrame, amount: int = 10, len_threshold: int = 0) -> pd.DataFrame:\n",
    "  long_words_mask = frame['word'].str.len() >= len_threshold\n",
    "  long_words = frame.loc[long_words_mask]\n",
    "  sorted_words = long_words.sort_values(by=['count'], ascending=False)\n",
    "  top_words = sorted_words.head(amount)\n",
    "  return top_words\n"
   ]
  },
  {
   "cell_type": "code",
   "execution_count": 41,
   "metadata": {},
   "outputs": [],
   "source": [
    "import matplotlib.pyplot as plt\n",
    "\n",
    "def draw_piechart(frame: pd.DataFrame) -> None:\n",
    "  words, counts = frame['word'], frame['count']\n",
    "  plt.pie(counts, labels=words)\n",
    "  plt.title('Top 20 words')\n",
    "  plt.show()"
   ]
  },
  {
   "cell_type": "code",
   "execution_count": 42,
   "metadata": {},
   "outputs": [
    {
     "data": {
      "image/png": "[encoded data removed]",
      "text/plain": [
       "<Figure size 640x480 with 1 Axes>"
      ]
     },
     "metadata": {},
     "output_type": "display_data"
    }
   ],
   "source": [
    "top_20_words = get_top_words(dictionary, 20, len_threshold=5)\n",
    "draw_piechart(top_20_words)"
   ]
  },
  {
   "attachments": {},
   "cell_type": "markdown",
   "metadata": {},
   "source": [
    "### Now, let's create a mapping dictionary\n",
    "This dictionary will map word -> unique index"
   ]
  },
  {
   "cell_type": "code",
   "execution_count": 43,
   "metadata": {},
   "outputs": [],
   "source": [
    "from collections import defaultdict\n",
    "\n",
    "mapping_dictionary = defaultdict(int)\n",
    "top_words = get_top_words(dictionary, amount=10000)\n",
    "\n",
    "for id, word in enumerate(top_words['word'].values):\n",
    "  mapping_dictionary[word] = id\n"
   ]
  },
  {
   "attachments": {},
   "cell_type": "markdown",
   "metadata": {},
   "source": [
    "### We need to create a custom dataset class\n",
    "Dataset selects row. Row contains a sentence and a label. <br>\n",
    "Sentence -> tensor of word ids <br>\n",
    "Label -> label id "
   ]
  },
  {
   "cell_type": "code",
   "execution_count": 44,
   "metadata": {},
   "outputs": [],
   "source": [
    "import torch\n",
    "from torch.utils.data import Dataset\n",
    "from torch.nn.functional import pad\n",
    "import numpy as np\n",
    "\n",
    "class EmotionDataset(Dataset):\n",
    "  def __init__(self, frame: pd.DataFrame, word_mapping: dict[str, int], label_mapping: dict[str, int]) -> None:\n",
    "    self.frame = frame\n",
    "    self.word_mapping = word_mapping\n",
    "    self.label_mapping = label_mapping\n",
    "  \n",
    "  def __len__(self) -> int:\n",
    "    return len(self.frame)\n",
    "  \n",
    "  def __getitem__(self, index: int) -> tuple[torch.Tensor, int]:\n",
    "    row = self.frame.iloc[index]\n",
    "    text, label = row['text'], row['emotion']\n",
    "    words = text.split()\n",
    "    word_ids = map(lambda word: self.word_mapping[word], words)\n",
    "    word_ids = np.fromiter(word_ids, dtype=np.int32)\n",
    "    word_ids = torch.from_numpy(word_ids)\n",
    "    word_ids = pad(word_ids, pad=(300 - len(word_ids), 0), mode='constant')\n",
    "    label_id = self.label_mapping[label]\n",
    "    return word_ids, label_id\n"
   ]
  },
  {
   "attachments": {},
   "cell_type": "markdown",
   "metadata": {},
   "source": [
    "### Creating our datasets\n",
    "Train, test, validation "
   ]
  },
  {
   "cell_type": "code",
   "execution_count": 45,
   "metadata": {},
   "outputs": [],
   "source": [
    "train_dataset = EmotionDataset(train_frame, mapping_dictionary, emotion_to_id)\n",
    "test_dataset = EmotionDataset(test_frame, mapping_dictionary, emotion_to_id)\n",
    "valid_dataset = EmotionDataset(valid_frame, mapping_dictionary, emotion_to_id)"
   ]
  },
  {
   "attachments": {},
   "cell_type": "markdown",
   "metadata": {},
   "source": [
    "### Now, it's high time to build our neural network\n",
    "\n",
    "So far I discovered three possible ways how to approach NLP learning <br>\n",
    "From a perspective of Deep Learning:\n",
    "\n",
    "1. RNN -- Recurrent Neural Network\n",
    "2. LSTM -- Long Short Term Memory neural network (a variant of RNN)\n",
    "3. Transformer -- superior architecture (ChatGPT uses Transformer btw)\n",
    "\n",
    "As a starting point, I will proceed with building a simple RNN <br>\n",
    "<br>\n",
    "\n"
   ]
  },
  {
   "attachments": {},
   "cell_type": "markdown",
   "metadata": {},
   "source": [
    "### Checking how to use embedding and RNN in PyTorch\n",
    "Below I decided to experiment a little"
   ]
  },
  {
   "cell_type": "code",
   "execution_count": 46,
   "metadata": {},
   "outputs": [
    {
     "data": {
      "text/plain": [
       "torch.Size([1, 384])"
      ]
     },
     "execution_count": 46,
     "metadata": {},
     "output_type": "execute_result"
    }
   ],
   "source": [
    "import torch\n",
    "from torch import nn\n",
    "\n",
    "# load our word sequence of word IDs\n",
    "words, _ = train_dataset[0]\n",
    "\n",
    "# embedding -- turning word into vectors of size 100\n",
    "embedding = nn.Embedding(len(mapping_dictionary), 100)\n",
    "embedded = embedding(words)\n",
    "\n",
    "# rnn \n",
    "rnn = nn.RNN(100, 128, 3)\n",
    "_, hidden = rnn(embedded)\n",
    "\n",
    "# flatten\n",
    "flatten = nn.Flatten(0)\n",
    "hidden = flatten(hidden)\n",
    "\n",
    "hidden.unsqueeze(0).shape"
   ]
  },
  {
   "cell_type": "code",
   "execution_count": 47,
   "metadata": {},
   "outputs": [],
   "source": [
    "import torch\n",
    "from torch import nn\n",
    "\n",
    "class EmotionRecognizerRNN(nn.Module):\n",
    "  '''\n",
    "  Recurrent Neural Network containing:\n",
    "  - Embedding: turns words into vectors\n",
    "  - Recurrent Multilayer Component: PyTorch RNN realization\n",
    "  - Linear Layer: serving as an output layer\n",
    "  - Softmax: for categorizing purposes\n",
    "  '''\n",
    "  def __init__(self, vocab_size: int) -> None:\n",
    "    super().__init__()\n",
    "    self.embedding = nn.Embedding(vocab_size, 100)\n",
    "    self.recurrent = nn.RNN(100, 128, 3, dropout=0.1, batch_first=True)\n",
    "    self.linear = nn.Linear(128, 6)\n",
    "    self.output_function = nn.Softmax(dim=1)\n",
    "  \n",
    "  def forward(self, x: torch.Tensor) -> torch.Tensor:\n",
    "    embedded = self.embedding(x)\n",
    "    _, hidden = self.recurrent(embedded)\n",
    "    hidden = hidden[-1].unsqueeze(0)\n",
    "    output = self.linear(hidden)\n",
    "    return self.output_function(output)\n",
    "    "
   ]
  },
  {
   "attachments": {},
   "cell_type": "markdown",
   "metadata": {},
   "source": [
    "### Setting up device and loaders\n",
    "1. Select device (since I working on a Mac device, my choice is MPS)\n",
    "2. Setup loaders for training, validating and testing"
   ]
  },
  {
   "cell_type": "code",
   "execution_count": 48,
   "metadata": {},
   "outputs": [],
   "source": [
    "import torch\n",
    "\n",
    "def select_device_type(debug: bool = False) -> str:\n",
    "  if debug:\n",
    "    return 'cpu'\n",
    "  if torch.cuda.is_available():\n",
    "    return 'cuda'\n",
    "  if torch.backends.mps.is_available():\n",
    "    return 'mps'\n",
    "  if torch.backends.mkl.is_available():\n",
    "    return 'mkl'\n",
    "  return 'cpu'\n",
    "\n",
    "def get_device(debug: bool = False) -> torch.device:\n",
    "  device_type = select_device_type(debug)\n",
    "  return torch.device(device_type)"
   ]
  },
  {
   "cell_type": "code",
   "execution_count": 49,
   "metadata": {},
   "outputs": [
    {
     "data": {
      "text/plain": [
       "device(type='cpu')"
      ]
     },
     "execution_count": 49,
     "metadata": {},
     "output_type": "execute_result"
    }
   ],
   "source": [
    "def prompt_bool(message: str) -> bool:\n",
    "  user_input = input(message).lower()\n",
    "  return user_input == 'y' or user_input == 'yes'\n",
    "\n",
    "debug = prompt_bool('Debug mode?')\n",
    "device = get_device(debug)\n",
    "\n",
    "device"
   ]
  },
  {
   "cell_type": "code",
   "execution_count": 50,
   "metadata": {},
   "outputs": [],
   "source": [
    "from torch.utils.data import DataLoader\n",
    "\n",
    "train_loader = DataLoader(train_dataset, batch_size=64, shuffle=True)\n",
    "test_loader = DataLoader(test_dataset, batch_size=64, shuffle=False)\n",
    "valid_loader = DataLoader(test_dataset, batch_size=64, shuffle=False)"
   ]
  },
  {
   "attachments": {},
   "cell_type": "markdown",
   "metadata": {},
   "source": [
    "### Writing a Trainer class\n",
    "That class will be responsible for:\n",
    "1. Evaluation\n",
    "2. Training\n",
    "3. Plotting validation history"
   ]
  },
  {
   "cell_type": "code",
   "execution_count": 51,
   "metadata": {},
   "outputs": [],
   "source": [
    "import torch\n",
    "from torch.utils.data import DataLoader\n",
    "from torch.optim import Adam\n",
    "from torch import nn\n",
    "from matplotlib import pyplot as plt\n",
    "\n",
    "class Trainer:\n",
    "  def __init__(self, model: nn.Module) -> None:\n",
    "    self._model = model\n",
    "    self.loss_function = nn.CrossEntropyLoss()\n",
    "    self.optimizer = Adam(model.parameters(), lr=0.001)\n",
    "    self._validation_history = []\n",
    "  \n",
    "  @property\n",
    "  def validation_history(self) -> list[tuple[float, float]]:\n",
    "    return self._validation_history\n",
    "  \n",
    "  # returns a validation history\n",
    "  @property\n",
    "  def validation_history(self) -> list[tuple[float, float]]:\n",
    "    return self._validation_history\n",
    "  \n",
    "  # returns loss and accuracy\n",
    "  def evaluate(self, loader: DataLoader) -> tuple[float, float]:\n",
    "    loss, accuracy = 0.0, 0.0\n",
    "    with torch.no_grad():\n",
    "      for words, labels in loader:\n",
    "        words, labels = words.to(device), labels.to(device)\n",
    "        output = self._model(words)\n",
    "        loss += self.loss_function(output, labels).item()\n",
    "        predictions = output.argmax(dim=1)\n",
    "        accuracy += (predictions == labels).sum().item()\n",
    "    loss /= len(loader)\n",
    "    accuracy /= len(loader.dataset)\n",
    "    return loss, accuracy\n",
    "  \n",
    "  # trains the model\n",
    "  def train(self, train_loader: DataLoader, valid_loader: DataLoader, epochs: int) -> None:\n",
    "    for epoch in range(epochs):\n",
    "      self._model.train()\n",
    "      for words, labels in train_loader:\n",
    "        words, labels = words.to(device), labels.to(device)\n",
    "        self.optimizer.zero_grad()\n",
    "        output = self._model(words)\n",
    "        loss = self.loss_function(output, labels)\n",
    "        loss.backward()\n",
    "        self.optimizer.step()\n",
    "      loss, accuracy = self.evaluate(valid_loader)\n",
    "      self._validation_history.append((loss, accuracy))\n",
    "      print(f'Epoch: {epoch + 1}, Loss: {loss:.4f}, Accuracy: {accuracy:.4f}')\n",
    "    \n",
    "  # plots the validation history\n",
    "  def plot_validation_history(self) -> None:\n",
    "    losses, accuracies = zip(*self._validation_history)\n",
    "    plt.plot(losses, label='Loss')\n",
    "    plt.plot(accuracies, label='Accuracy')\n",
    "    plt.legend()\n",
    "    plt.show()\n"
   ]
  },
  {
   "attachments": {},
   "cell_type": "markdown",
   "metadata": {},
   "source": [
    "### Training, evaluating, saving..."
   ]
  },
  {
   "cell_type": "code",
   "execution_count": 52,
   "metadata": {},
   "outputs": [],
   "source": [
    "model = EmotionRecognizerRNN(len(mapping_dictionary))\n",
    "model = model.to(device)"
   ]
  },
  {
   "cell_type": "code",
   "execution_count": 53,
   "metadata": {},
   "outputs": [],
   "source": [
    "trainer = Trainer(model)"
   ]
  },
  {
   "cell_type": "code",
   "execution_count": 54,
   "metadata": {},
   "outputs": [
    {
     "ename": "ValueError",
     "evalue": "Expected input batch_size (1) to match target batch_size (64).",
     "output_type": "error",
     "traceback": [
      "\u001b[0;31m---------------------------------------------------------------------------\u001b[0m",
      "\u001b[0;31mValueError\u001b[0m                                Traceback (most recent call last)",
      "Cell \u001b[0;32mIn[54], line 1\u001b[0m\n\u001b[0;32m----> 1\u001b[0m trainer\u001b[39m.\u001b[39;49mtrain(train_loader, valid_loader, epochs\u001b[39m=\u001b[39;49m\u001b[39m10\u001b[39;49m)\n",
      "Cell \u001b[0;32mIn[51], line 45\u001b[0m, in \u001b[0;36mTrainer.train\u001b[0;34m(self, train_loader, valid_loader, epochs)\u001b[0m\n\u001b[1;32m     43\u001b[0m \u001b[39mself\u001b[39m\u001b[39m.\u001b[39moptimizer\u001b[39m.\u001b[39mzero_grad()\n\u001b[1;32m     44\u001b[0m output \u001b[39m=\u001b[39m \u001b[39mself\u001b[39m\u001b[39m.\u001b[39m_model(words)\n\u001b[0;32m---> 45\u001b[0m loss \u001b[39m=\u001b[39m \u001b[39mself\u001b[39;49m\u001b[39m.\u001b[39;49mloss_function(output, labels)\n\u001b[1;32m     46\u001b[0m loss\u001b[39m.\u001b[39mbackward()\n\u001b[1;32m     47\u001b[0m \u001b[39mself\u001b[39m\u001b[39m.\u001b[39moptimizer\u001b[39m.\u001b[39mstep()\n",
      "File \u001b[0;32m~/Documents/nlp-emotions/.venv/lib/python3.11/site-packages/torch/nn/modules/module.py:1501\u001b[0m, in \u001b[0;36mModule._call_impl\u001b[0;34m(self, *args, **kwargs)\u001b[0m\n\u001b[1;32m   1496\u001b[0m \u001b[39m# If we don't have any hooks, we want to skip the rest of the logic in\u001b[39;00m\n\u001b[1;32m   1497\u001b[0m \u001b[39m# this function, and just call forward.\u001b[39;00m\n\u001b[1;32m   1498\u001b[0m \u001b[39mif\u001b[39;00m \u001b[39mnot\u001b[39;00m (\u001b[39mself\u001b[39m\u001b[39m.\u001b[39m_backward_hooks \u001b[39mor\u001b[39;00m \u001b[39mself\u001b[39m\u001b[39m.\u001b[39m_backward_pre_hooks \u001b[39mor\u001b[39;00m \u001b[39mself\u001b[39m\u001b[39m.\u001b[39m_forward_hooks \u001b[39mor\u001b[39;00m \u001b[39mself\u001b[39m\u001b[39m.\u001b[39m_forward_pre_hooks\n\u001b[1;32m   1499\u001b[0m         \u001b[39mor\u001b[39;00m _global_backward_pre_hooks \u001b[39mor\u001b[39;00m _global_backward_hooks\n\u001b[1;32m   1500\u001b[0m         \u001b[39mor\u001b[39;00m _global_forward_hooks \u001b[39mor\u001b[39;00m _global_forward_pre_hooks):\n\u001b[0;32m-> 1501\u001b[0m     \u001b[39mreturn\u001b[39;00m forward_call(\u001b[39m*\u001b[39;49margs, \u001b[39m*\u001b[39;49m\u001b[39m*\u001b[39;49mkwargs)\n\u001b[1;32m   1502\u001b[0m \u001b[39m# Do not call functions when jit is used\u001b[39;00m\n\u001b[1;32m   1503\u001b[0m full_backward_hooks, non_full_backward_hooks \u001b[39m=\u001b[39m [], []\n",
      "File \u001b[0;32m~/Documents/nlp-emotions/.venv/lib/python3.11/site-packages/torch/nn/modules/loss.py:1174\u001b[0m, in \u001b[0;36mCrossEntropyLoss.forward\u001b[0;34m(self, input, target)\u001b[0m\n\u001b[1;32m   1173\u001b[0m \u001b[39mdef\u001b[39;00m \u001b[39mforward\u001b[39m(\u001b[39mself\u001b[39m, \u001b[39minput\u001b[39m: Tensor, target: Tensor) \u001b[39m-\u001b[39m\u001b[39m>\u001b[39m Tensor:\n\u001b[0;32m-> 1174\u001b[0m     \u001b[39mreturn\u001b[39;00m F\u001b[39m.\u001b[39;49mcross_entropy(\u001b[39minput\u001b[39;49m, target, weight\u001b[39m=\u001b[39;49m\u001b[39mself\u001b[39;49m\u001b[39m.\u001b[39;49mweight,\n\u001b[1;32m   1175\u001b[0m                            ignore_index\u001b[39m=\u001b[39;49m\u001b[39mself\u001b[39;49m\u001b[39m.\u001b[39;49mignore_index, reduction\u001b[39m=\u001b[39;49m\u001b[39mself\u001b[39;49m\u001b[39m.\u001b[39;49mreduction,\n\u001b[1;32m   1176\u001b[0m                            label_smoothing\u001b[39m=\u001b[39;49m\u001b[39mself\u001b[39;49m\u001b[39m.\u001b[39;49mlabel_smoothing)\n",
      "File \u001b[0;32m~/Documents/nlp-emotions/.venv/lib/python3.11/site-packages/torch/nn/functional.py:3029\u001b[0m, in \u001b[0;36mcross_entropy\u001b[0;34m(input, target, weight, size_average, ignore_index, reduce, reduction, label_smoothing)\u001b[0m\n\u001b[1;32m   3027\u001b[0m \u001b[39mif\u001b[39;00m size_average \u001b[39mis\u001b[39;00m \u001b[39mnot\u001b[39;00m \u001b[39mNone\u001b[39;00m \u001b[39mor\u001b[39;00m reduce \u001b[39mis\u001b[39;00m \u001b[39mnot\u001b[39;00m \u001b[39mNone\u001b[39;00m:\n\u001b[1;32m   3028\u001b[0m     reduction \u001b[39m=\u001b[39m _Reduction\u001b[39m.\u001b[39mlegacy_get_string(size_average, reduce)\n\u001b[0;32m-> 3029\u001b[0m \u001b[39mreturn\u001b[39;00m torch\u001b[39m.\u001b[39;49m_C\u001b[39m.\u001b[39;49m_nn\u001b[39m.\u001b[39;49mcross_entropy_loss(\u001b[39minput\u001b[39;49m, target, weight, _Reduction\u001b[39m.\u001b[39;49mget_enum(reduction), ignore_index, label_smoothing)\n",
      "\u001b[0;31mValueError\u001b[0m: Expected input batch_size (1) to match target batch_size (64)."
     ]
    }
   ],
   "source": [
    "trainer.train(train_loader, valid_loader, epochs=10)"
   ]
  }
 ],
 "metadata": {
  "kernelspec": {
   "display_name": ".venv",
   "language": "python",
   "name": "python3"
  },
  "language_info": {
   "codemirror_mode": {
    "name": "ipython",
    "version": 3
   },
   "file_extension": ".py",
   "mimetype": "text/x-python",
   "name": "python",
   "nbconvert_exporter": "python",
   "pygments_lexer": "ipython3",
   "version": "3.11.3"
  },
  "orig_nbformat": 4
 },
 "nbformat": 4,
 "nbformat_minor": 2
}
